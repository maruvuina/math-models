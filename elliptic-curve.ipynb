{
 "cells": [
  {
   "cell_type": "markdown",
   "id": "0797d905",
   "metadata": {},
   "source": [
    "## Import dependencies"
   ]
  },
  {
   "cell_type": "code",
   "execution_count": 48,
   "id": "eff6aff6",
   "metadata": {},
   "outputs": [],
   "source": [
    "import numpy as np\n",
    "import pandas as pd\n",
    "import pprint"
   ]
  },
  {
   "cell_type": "markdown",
   "id": "52f450de",
   "metadata": {},
   "source": [
    "## Elliptic curve logic"
   ]
  },
  {
   "cell_type": "markdown",
   "id": "512dac99",
   "metadata": {},
   "source": [
    "### Logic for find order of concrete point"
   ]
  },
  {
   "cell_type": "code",
   "execution_count": 49,
   "id": "d01c6b61",
   "metadata": {},
   "outputs": [],
   "source": [
    "INFINITY = (0, 0)"
   ]
  },
  {
   "cell_type": "code",
   "execution_count": 50,
   "id": "1c71de90",
   "metadata": {},
   "outputs": [],
   "source": [
    "def isPointValid(point):\n",
    "    return point is not None and point is not np.nan"
   ]
  },
  {
   "cell_type": "code",
   "execution_count": 51,
   "id": "0bd62cce",
   "metadata": {},
   "outputs": [],
   "source": [
    "def arePointsEqual(p1, p2):\n",
    "    return p1 == p2"
   ]
  },
  {
   "cell_type": "code",
   "execution_count": 52,
   "id": "adf20b3c",
   "metadata": {},
   "outputs": [],
   "source": [
    "def modulo_multiplicative_inverse(number, mod):\n",
    "    # This will iterate from 0 to mod-1\n",
    "    for i in range(0, mod):\n",
    "        # If we have our multiplicative inverse then return it.\n",
    "        if (number * i) % mod == 1:\n",
    "            return i\n",
    "    return -1"
   ]
  },
  {
   "cell_type": "code",
   "execution_count": 53,
   "id": "45c91edd",
   "metadata": {},
   "outputs": [],
   "source": [
    "def calculate_s(numerator, denominator, mod):\n",
    "    return (numerator * modulo_multiplicative_inverse(denominator, mod)) % mod"
   ]
  },
  {
   "cell_type": "code",
   "execution_count": 54,
   "id": "aa8a01a9",
   "metadata": {},
   "outputs": [],
   "source": [
    "def sum(p1, p2, mod, a):\n",
    "    if (not isPointValid(p1) or p1 == INFINITY): return p2\n",
    "    if (not isPointValid(p2) or p2 == INFINITY): return p1\n",
    "    s = 0\n",
    "    if (arePointsEqual(p1, p2)):\n",
    "        if (p1[1] == 0):\n",
    "            return INFINITY\n",
    "        numerator = 3*p1[0]*p1[0] + a\n",
    "        denominator = 2*p1[1]\n",
    "        s = calculate_s(numerator, denominator, mod)\n",
    "    else:\n",
    "        if (p1[0] == p2[0]):\n",
    "            return INFINITY\n",
    "        numerator = p2[1] - p1[1]\n",
    "        denominator = p2[0] - p1[0]\n",
    "        s = calculate_s(numerator, denominator, mod)    \n",
    "        \n",
    "    x = (s*s - p1[0] - p2[0]) % mod\n",
    "    y = (s*(p1[0] - x) - p1[1]) % mod\n",
    "    return (x, y)"
   ]
  },
  {
   "cell_type": "code",
   "execution_count": 55,
   "id": "aeffda98",
   "metadata": {},
   "outputs": [],
   "source": [
    "def point_order(point, mod, a):\n",
    "    points_of_sum = {}\n",
    "    points_of_sum['P'] = point\n",
    "    i = 1\n",
    "    result = point\n",
    "    while (result != INFINITY):\n",
    "        result = sum(point, result, mod, a)\n",
    "        i = i + 1\n",
    "        key = str(i) + 'P'\n",
    "        points_of_sum[key] = result\n",
    "    return i, points_of_sum"
   ]
  },
  {
   "cell_type": "markdown",
   "id": "dab8e0a7",
   "metadata": {},
   "source": [
    "### Logic for find all points"
   ]
  },
  {
   "cell_type": "code",
   "execution_count": 56,
   "id": "ad657ac0",
   "metadata": {},
   "outputs": [],
   "source": [
    "def get_modulas(mod):\n",
    "    values = []\n",
    "    for i in range(0, mod):\n",
    "        values.append(i)\n",
    "    return values"
   ]
  },
  {
   "cell_type": "code",
   "execution_count": 57,
   "id": "81885805",
   "metadata": {},
   "outputs": [],
   "source": [
    "def get_y_square(a, b, mod):\n",
    "    y_square = []\n",
    "    for i in range(0, mod):\n",
    "        result = (i**3 + a*i + b) % mod\n",
    "        y_square.append(result)\n",
    "    return y_square"
   ]
  },
  {
   "cell_type": "code",
   "execution_count": 58,
   "id": "f375241f",
   "metadata": {},
   "outputs": [],
   "source": [
    "def calculate_y_values(x, mod):\n",
    "    y_value = None\n",
    "    for i in range(0, mod // 2 + 1):\n",
    "        r = i**2 % mod\n",
    "        if (r == x):\n",
    "            if (i == 0):\n",
    "                y_value = str(i)\n",
    "            else:\n",
    "                y_value = \"+-\" + str(i)\n",
    "    return y_value"
   ]
  },
  {
   "cell_type": "code",
   "execution_count": 59,
   "id": "3f40480f",
   "metadata": {},
   "outputs": [],
   "source": [
    "def get_y_values(mod):\n",
    "    y_values = []        \n",
    "    for value in get_y_square(a, b, mod):\n",
    "        y_values.append(calculate_y_values(value, mod))\n",
    "    return y_values"
   ]
  },
  {
   "cell_type": "code",
   "execution_count": 60,
   "id": "a27f48b2",
   "metadata": {},
   "outputs": [],
   "source": [
    "def get_all_points_of_elliptic_curve(a, b, mod):\n",
    "    df = pd.DataFrame(None, index=['x','y^2','y'], columns=np.arange(mod))\n",
    "    df.loc['x'] = get_modulas(mod)\n",
    "    df.loc['y^2'] = get_y_square(a, b, mod)\n",
    "    df.loc['y'] = get_y_values(mod)\n",
    "    return df"
   ]
  },
  {
   "cell_type": "markdown",
   "id": "fa341509",
   "metadata": {},
   "source": [
    "## Initialize params"
   ]
  },
  {
   "cell_type": "markdown",
   "id": "d0ca0b64",
   "metadata": {},
   "source": [
    "### The elliptic curve is given in Weierstrass form\n",
    "### y^2 = x^3 + a*x + b"
   ]
  },
  {
   "cell_type": "markdown",
   "id": "01f04fcb",
   "metadata": {},
   "source": [
    "### Get order of concrete point"
   ]
  },
  {
   "cell_type": "code",
   "execution_count": 65,
   "id": "6dad99e6",
   "metadata": {
    "scrolled": true
   },
   "outputs": [
    {
     "name": "stdout",
     "output_type": "stream",
     "text": [
      "Order of point (0, 1) is \u001b[1m41\u001b[0m\n",
      "{'P': (0, 1),\n",
      " '2P': (18, 44),\n",
      " '3P': (7, 11),\n",
      " '4P': (43, 45),\n",
      " '5P': (31, 11),\n",
      " '6P': (23, 31),\n",
      " '7P': (5, 17),\n",
      " '8P': (9, 36),\n",
      " '9P': (45, 12),\n",
      " '10P': (44, 6),\n",
      " '11P': (11, 33),\n",
      " '12P': (13, 21),\n",
      " '13P': (8, 12),\n",
      " '14P': (24, 13),\n",
      " '15P': (35, 5),\n",
      " '16P': (33, 10),\n",
      " '17P': (30, 25),\n",
      " '18P': (12, 27),\n",
      " '19P': (41, 12),\n",
      " '20P': (42, 29),\n",
      " '21P': (42, 18),\n",
      " '22P': (41, 35),\n",
      " '23P': (12, 20),\n",
      " '24P': (30, 22),\n",
      " '25P': (33, 37),\n",
      " '26P': (35, 42),\n",
      " '27P': (24, 34),\n",
      " '28P': (8, 35),\n",
      " '29P': (13, 26),\n",
      " '30P': (11, 14),\n",
      " '31P': (44, 41),\n",
      " '32P': (45, 35),\n",
      " '33P': (9, 11),\n",
      " '34P': (5, 30),\n",
      " '35P': (23, 16),\n",
      " '36P': (31, 36),\n",
      " '37P': (43, 2),\n",
      " '38P': (7, 36),\n",
      " '39P': (18, 3),\n",
      " '40P': (0, 46),\n",
      " '41P': (0, 0)}\n"
     ]
    }
   ],
   "source": [
    "point = (0, 1)\n",
    "mod = 47\n",
    "a = -5\n",
    "oder_with_kist_of_points = point_order(point, mod, a)\n",
    "bold_ANSI_start = '\\033[1m'\n",
    "bold_ANSI_end = '\\033[0m'\n",
    "print('Order of point ' + str(point) + ' is ' + bold_ANSI_start + str(oder_with_kist_of_points[0]) + bold_ANSI_end)\n",
    "pprint.pprint(oder_with_kist_of_points[1], sort_dicts=False)"
   ]
  },
  {
   "cell_type": "markdown",
   "id": "b1412f0b",
   "metadata": {},
   "source": [
    "### Find sum of two points of an elliptic curve"
   ]
  },
  {
   "cell_type": "code",
   "execution_count": 62,
   "id": "3846ebcd",
   "metadata": {},
   "outputs": [
    {
     "data": {
      "text/plain": [
       "(8, 12)"
      ]
     },
     "execution_count": 62,
     "metadata": {},
     "output_type": "execute_result"
    }
   ],
   "source": [
    "point1 = (18, 44)\n",
    "point2 = (11, 33)\n",
    "mod = 47\n",
    "a = -5\n",
    "sum(point1, point2, mod, a)"
   ]
  },
  {
   "cell_type": "markdown",
   "id": "8b132359",
   "metadata": {},
   "source": [
    "### Get all points of elliptic curve"
   ]
  },
  {
   "cell_type": "code",
   "execution_count": 63,
   "id": "07c8302d",
   "metadata": {},
   "outputs": [
    {
     "data": {
      "text/html": [
       "<div>\n",
       "<style scoped>\n",
       "    .dataframe tbody tr th:only-of-type {\n",
       "        vertical-align: middle;\n",
       "    }\n",
       "\n",
       "    .dataframe tbody tr th {\n",
       "        vertical-align: top;\n",
       "    }\n",
       "\n",
       "    .dataframe thead th {\n",
       "        text-align: right;\n",
       "    }\n",
       "</style>\n",
       "<table border=\"1\" class=\"dataframe\">\n",
       "  <thead>\n",
       "    <tr style=\"text-align: right;\">\n",
       "      <th></th>\n",
       "      <th>0</th>\n",
       "      <th>1</th>\n",
       "      <th>2</th>\n",
       "      <th>3</th>\n",
       "      <th>4</th>\n",
       "      <th>5</th>\n",
       "      <th>6</th>\n",
       "    </tr>\n",
       "  </thead>\n",
       "  <tbody>\n",
       "    <tr>\n",
       "      <th>x</th>\n",
       "      <td>0</td>\n",
       "      <td>1</td>\n",
       "      <td>2</td>\n",
       "      <td>3</td>\n",
       "      <td>4</td>\n",
       "      <td>5</td>\n",
       "      <td>6</td>\n",
       "    </tr>\n",
       "    <tr>\n",
       "      <th>y^2</th>\n",
       "      <td>0</td>\n",
       "      <td>0</td>\n",
       "      <td>6</td>\n",
       "      <td>3</td>\n",
       "      <td>4</td>\n",
       "      <td>1</td>\n",
       "      <td>0</td>\n",
       "    </tr>\n",
       "    <tr>\n",
       "      <th>y</th>\n",
       "      <td>0</td>\n",
       "      <td>0</td>\n",
       "      <td>None</td>\n",
       "      <td>None</td>\n",
       "      <td>+-2</td>\n",
       "      <td>+-1</td>\n",
       "      <td>0</td>\n",
       "    </tr>\n",
       "  </tbody>\n",
       "</table>\n",
       "</div>"
      ],
      "text/plain": [
       "     0  1     2     3    4    5  6\n",
       "x    0  1     2     3    4    5  6\n",
       "y^2  0  0     6     3    4    1  0\n",
       "y    0  0  None  None  +-2  +-1  0"
      ]
     },
     "execution_count": 63,
     "metadata": {},
     "output_type": "execute_result"
    }
   ],
   "source": [
    "a = -1\n",
    "b = 0\n",
    "mod = 7\n",
    "df_points = get_all_points_of_elliptic_curve(a, b, mod)\n",
    "df_points"
   ]
  },
  {
   "cell_type": "markdown",
   "id": "2dcca38e",
   "metadata": {},
   "source": [
    "### Count of all points of elliptic curve + INIFINITY point"
   ]
  },
  {
   "cell_type": "code",
   "execution_count": 64,
   "id": "6057333f",
   "metadata": {},
   "outputs": [
    {
     "data": {
      "text/plain": [
       "8"
      ]
     },
     "execution_count": 64,
     "metadata": {},
     "output_type": "execute_result"
    }
   ],
   "source": [
    "count = 1 # Add INFINITY point\n",
    "y_values = df_points.loc['y']\n",
    "for y_value in y_values:\n",
    "    if (y_value is None):\n",
    "        continue    \n",
    "    if ('+-' in y_value):\n",
    "        count = count + 2\n",
    "    else:\n",
    "        count = count + 1\n",
    "count"
   ]
  }
 ],
 "metadata": {
  "kernelspec": {
   "display_name": "Python 3 (ipykernel)",
   "language": "python",
   "name": "python3"
  },
  "language_info": {
   "codemirror_mode": {
    "name": "ipython",
    "version": 3
   },
   "file_extension": ".py",
   "mimetype": "text/x-python",
   "name": "python",
   "nbconvert_exporter": "python",
   "pygments_lexer": "ipython3",
   "version": "3.11.1"
  }
 },
 "nbformat": 4,
 "nbformat_minor": 5
}
