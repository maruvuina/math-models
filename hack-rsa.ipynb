{
 "cells": [
  {
   "cell_type": "markdown",
   "id": "4b4a7252",
   "metadata": {},
   "source": [
    "## Import dependencies"
   ]
  },
  {
   "cell_type": "code",
   "execution_count": 44,
   "id": "70cffd15",
   "metadata": {},
   "outputs": [],
   "source": [
    "from sympy.ntheory.factor_ import totient\n",
    "import numpy as np"
   ]
  },
  {
   "cell_type": "markdown",
   "id": "1219d143",
   "metadata": {},
   "source": [
    "## Hack logic"
   ]
  },
  {
   "cell_type": "code",
   "execution_count": 45,
   "id": "c77b4652",
   "metadata": {},
   "outputs": [],
   "source": [
    "ENGLISH_ALPHABET = [\n",
    "    None, \n",
    "    None,\n",
    "    ' ',\n",
    "    'a',\n",
    "    'b',\n",
    "    'c',\n",
    "    'd',\n",
    "    'e',\n",
    "    'f',\n",
    "    'g',\n",
    "    'h',\n",
    "    'i',\n",
    "    'j',\n",
    "    'k',\n",
    "    'l',\n",
    "    'm',\n",
    "    'n',\n",
    "    'o',\n",
    "    'p',\n",
    "    'q',\n",
    "    'r',\n",
    "    's',\n",
    "    't',\n",
    "    'u',\n",
    "    'v',\n",
    "    'w',\n",
    "    'x',\n",
    "    'y',\n",
    "    'z',\n",
    "]"
   ]
  },
  {
   "cell_type": "markdown",
   "id": "b6f96c22",
   "metadata": {},
   "source": [
    "### Returns multiplicative modulo inverse of k under phi_n, if exists\n",
    "### Returns -1 if doesn't exist"
   ]
  },
  {
   "cell_type": "code",
   "execution_count": 46,
   "id": "ee0fb02b",
   "metadata": {},
   "outputs": [],
   "source": [
    "def modulo_multiplicative_inverse(number, mod):\n",
    "    # This will iterate from 0 to mod-1\n",
    "    for i in range(0, mod):\n",
    "        # If we have our multiplicative inverse then return it.\n",
    "        if (number * i) % mod == 1:\n",
    "            return i\n",
    "    return -1"
   ]
  },
  {
   "cell_type": "markdown",
   "id": "b39b2094",
   "metadata": {},
   "source": [
    "### Returns modulo exponentiation for two numbers represented as int. \n",
    "### Its complexity is O(log(n))"
   ]
  },
  {
   "cell_type": "code",
   "execution_count": 47,
   "id": "843365bb",
   "metadata": {},
   "outputs": [],
   "source": [
    "def modulo_exponentiation(x, l, mod):\n",
    "    result = 1\n",
    "    while (l):\n",
    "        # Check if current 'l' is even or odd. If 'l' is odd (l & 1)=1 then perform if statement.\n",
    "        if (l & 1):\n",
    "            result = result * x % mod\n",
    "        l = int(l / 2)\n",
    "        x = x * x % mod\n",
    "    return result"
   ]
  },
  {
   "cell_type": "markdown",
   "id": "1d821ab4",
   "metadata": {},
   "source": [
    "### Returns decrypted phrase"
   ]
  },
  {
   "cell_type": "code",
   "execution_count": 48,
   "id": "7af8e591",
   "metadata": {},
   "outputs": [],
   "source": [
    "def decrypt(public_key, phi_n, codes):\n",
    "    l = modulo_multiplicative_inverse(public_key[1], phi_n)\n",
    "    list_of_intermediate_values = []\n",
    "    list_of_intermediate_values.append('phi_n=' + str(phi_n))\n",
    "    list_of_intermediate_values.append('l=' + str(l))\n",
    "    decrypted_phrase = \"\"\n",
    "    for code in codes:\n",
    "        decrypted_code = modulo_exponentiation(code, l, public_key[0])\n",
    "        letter = ENGLISH_ALPHABET[decrypted_code]\n",
    "        decrypted_phrase += letter\n",
    "        list_of_intermediate_values.append(str(code) + '^l mod n = ' + str(decrypted_code) + '(' + letter + ')')\n",
    "    return decrypted_phrase, list_of_intermediate_values"
   ]
  },
  {
   "cell_type": "markdown",
   "id": "54357b86",
   "metadata": {},
   "source": [
    "### Returns Euler phi function using totient method from sympy library"
   ]
  },
  {
   "cell_type": "code",
   "execution_count": 49,
   "id": "138f8703",
   "metadata": {},
   "outputs": [],
   "source": [
    "def calculate_euler_phi_function(n):\n",
    "    return totient(n)"
   ]
  },
  {
   "cell_type": "markdown",
   "id": "b7a4479b",
   "metadata": {},
   "source": [
    "### Hack RSA method"
   ]
  },
  {
   "cell_type": "code",
   "execution_count": 50,
   "id": "bed0f7b8",
   "metadata": {},
   "outputs": [],
   "source": [
    "def hack_rsa(public_key, codes):\n",
    "    phi_n = calculate_euler_phi_function(public_key[0])\n",
    "    return decrypt(public_key, phi_n, codes)"
   ]
  },
  {
   "cell_type": "markdown",
   "id": "152cda7c",
   "metadata": {},
   "source": [
    "### Factorize a number into prime factors"
   ]
  },
  {
   "cell_type": "code",
   "execution_count": 51,
   "id": "a113207a",
   "metadata": {},
   "outputs": [],
   "source": [
    "def prime_factors(n):\n",
    "    i = 2\n",
    "    factors = []\n",
    "    while i * i <= n:\n",
    "        if n % i:\n",
    "            i += 1\n",
    "        else:\n",
    "            n //= i\n",
    "            factors.append(i)\n",
    "    if n > 1:\n",
    "        factors.append(n)\n",
    "    return factors"
   ]
  },
  {
   "cell_type": "markdown",
   "id": "1f92624e",
   "metadata": {},
   "source": [
    "## Initialize params"
   ]
  },
  {
   "cell_type": "code",
   "execution_count": 52,
   "id": "8ef4854e",
   "metadata": {
    "scrolled": true
   },
   "outputs": [
    {
     "name": "stdout",
     "output_type": "stream",
     "text": [
      "Get factors of n: [29, 47]\n",
      "\n",
      "Decrypted phrase: \u001b[1mtheoretical\u001b[0m\n",
      "\n",
      "Intermediate values\n",
      "[['phi_n=1288']\n",
      " ['l=15']\n",
      " ['602^l mod n = 22(t)']\n",
      " ['1063^l mod n = 10(h)']\n",
      " ['413^l mod n = 7(e)']\n",
      " ['737^l mod n = 17(o)']\n",
      " ['832^l mod n = 20(r)']\n",
      " ['413^l mod n = 7(e)']\n",
      " ['602^l mod n = 22(t)']\n",
      " ['163^l mod n = 11(i)']\n",
      " ['1078^l mod n = 5(c)']\n",
      " ['1041^l mod n = 3(a)']\n",
      " ['363^l mod n = 14(l)']]\n"
     ]
    }
   ],
   "source": [
    "n = 1363\n",
    "k = 687\n",
    "#n, k from example variants\n",
    "#n = 1739\n",
    "#k = 523\n",
    "public_key = [n, k]\n",
    "#Example variants\n",
    "#codes = [898, 1224, 426, 426, 619, 553, 682, 1228, 1209, 553, 619, 1228, 1224, 979] # Var 1: happy new year\n",
    "#codes = [1484, 1228, 1224, 1346, 718, 973, 1583, 1346, 874, 553, 170, 973, 682, 401] #Var 2: beautiful mind\n",
    "#codes = [973, 170, 973, 718, 1224, 718, 973, 131, 682, 553, 897, 1224, 170, 1228] # Var 3: imitation game\n",
    "#codes = [170, 1228, 979, 979, 619, 553, 1401, 898, 979, 973, 576, 718, 170, 1224, 576] #Var 4: merry christmas\n",
    "#codes = [979, 1228, 874, 1224, 718, 973, 346, 973, 718, 619, 553, 718, 898, 1228, 131, 979, 619] #Var 5: relativity theory\n",
    "#codes = [170, 131, 131, 682, 553, 897, 979, 1224, 346, 973, 718, 1224, 718, 973, 131, 682] #Var 6: moon gravitation]\n",
    "\n",
    "codes = [602, 1063, 413, 737, 832, 413, 602, 163, 1078, 1041, 363] #Var 5\n",
    "\n",
    "factors_of_n = prime_factors(n)\n",
    "print('Get factors of n: ' + str(factors_of_n))\n",
    "hack = hack_rsa(public_key, codes)\n",
    "bold_ANSI_start = '\\033[1m'\n",
    "bold_ANSI_end = '\\033[0m'\n",
    "print('\\nDecrypted phrase: ' + bold_ANSI_start + hack[0] + bold_ANSI_end)\n",
    "list_of_intermediate_values = np.array(hack[1])\n",
    "print('\\nIntermediate values')\n",
    "print(list_of_intermediate_values[:, None])"
   ]
  }
 ],
 "metadata": {
  "kernelspec": {
   "display_name": "Python 3 (ipykernel)",
   "language": "python",
   "name": "python3"
  },
  "language_info": {
   "codemirror_mode": {
    "name": "ipython",
    "version": 3
   },
   "file_extension": ".py",
   "mimetype": "text/x-python",
   "name": "python",
   "nbconvert_exporter": "python",
   "pygments_lexer": "ipython3",
   "version": "3.11.1"
  }
 },
 "nbformat": 4,
 "nbformat_minor": 5
}
