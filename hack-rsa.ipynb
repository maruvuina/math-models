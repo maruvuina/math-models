{
 "cells": [
  {
   "cell_type": "markdown",
   "id": "4b4a7252",
   "metadata": {},
   "source": [
    "## Import dependencies"
   ]
  },
  {
   "cell_type": "code",
   "execution_count": 1,
   "id": "70cffd15",
   "metadata": {},
   "outputs": [],
   "source": [
    "from sympy.ntheory.factor_ import totient"
   ]
  },
  {
   "cell_type": "markdown",
   "id": "1219d143",
   "metadata": {},
   "source": [
    "## Hack logic"
   ]
  },
  {
   "cell_type": "code",
   "execution_count": 2,
   "id": "c77b4652",
   "metadata": {},
   "outputs": [],
   "source": [
    "ENGLISH_ALPHABET = [\n",
    "    None, \n",
    "    None,\n",
    "    ' ',\n",
    "    'a',\n",
    "    'b',\n",
    "    'c',\n",
    "    'd',\n",
    "    'e',\n",
    "    'f',\n",
    "    'g',\n",
    "    'h',\n",
    "    'i',\n",
    "    'j',\n",
    "    'k',\n",
    "    'l',\n",
    "    'm',\n",
    "    'n',\n",
    "    'o',\n",
    "    'p',\n",
    "    'q',\n",
    "    'r',\n",
    "    's',\n",
    "    't',\n",
    "    'u',\n",
    "    'v',\n",
    "    'w',\n",
    "    'x',\n",
    "    'y',\n",
    "    'z',\n",
    "]"
   ]
  },
  {
   "cell_type": "markdown",
   "id": "b6f96c22",
   "metadata": {},
   "source": [
    "### Returns multiplicative modulo inverse of k under phi_n, if exists\n",
    "### Returns -1 if doesn't exist"
   ]
  },
  {
   "cell_type": "code",
   "execution_count": 3,
   "id": "ee0fb02b",
   "metadata": {},
   "outputs": [],
   "source": [
    "def modulo_multiplicative_inverse(number, mod):\n",
    "    # This will iterate from 0 to mod-1\n",
    "    for i in range(0, mod):\n",
    "        # If we have our multiplicative inverse then return it.\n",
    "        if (number * i) % mod == 1:\n",
    "            return i\n",
    "    return -1"
   ]
  },
  {
   "cell_type": "markdown",
   "id": "b39b2094",
   "metadata": {},
   "source": [
    "### Returns modulo exponentiation for two numbers represented as int. \n",
    "### Its complexity is O(log(n))"
   ]
  },
  {
   "cell_type": "code",
   "execution_count": 4,
   "id": "843365bb",
   "metadata": {},
   "outputs": [],
   "source": [
    "def modulo_exponentiation(x, l, mod):\n",
    "    result = 1\n",
    "    while (l):\n",
    "        # Check if current 'l' is even or odd. If 'l' is odd (l & 1)=1 then perform if statement.\n",
    "        if (l & 1):\n",
    "            result = result * x % mod\n",
    "        l = int(l / 2)\n",
    "        x = x * x % mod\n",
    "    return result"
   ]
  },
  {
   "cell_type": "markdown",
   "id": "1d821ab4",
   "metadata": {},
   "source": [
    "### Returns decrypted phrase"
   ]
  },
  {
   "cell_type": "code",
   "execution_count": 5,
   "id": "7af8e591",
   "metadata": {},
   "outputs": [],
   "source": [
    "def decrypt(public_key, phi_n, codes):\n",
    "    decrypted_phrase = \"\"\n",
    "    for code in codes:\n",
    "        l = modulo_multiplicative_inverse(public_key[1], phi_n)\n",
    "        decrypted_code = modulo_exponentiation(code, l, public_key[0])\n",
    "        decrypted_phrase += ENGLISH_ALPHABET[decrypted_code]\n",
    "    return decrypted_phrase"
   ]
  },
  {
   "cell_type": "markdown",
   "id": "54357b86",
   "metadata": {},
   "source": [
    "### Returns Euler phi function using totient method from sympy library"
   ]
  },
  {
   "cell_type": "code",
   "execution_count": 6,
   "id": "138f8703",
   "metadata": {},
   "outputs": [],
   "source": [
    "def calculate_euler_phi_function(n):\n",
    "    return totient(n)"
   ]
  },
  {
   "cell_type": "markdown",
   "id": "b7a4479b",
   "metadata": {},
   "source": [
    "### Hack RSA method"
   ]
  },
  {
   "cell_type": "code",
   "execution_count": 7,
   "id": "bed0f7b8",
   "metadata": {},
   "outputs": [],
   "source": [
    "def hack_rsa(public_key, codes):\n",
    "    phi_n = calculate_euler_phi_function(public_key[0])\n",
    "    return decrypt(public_key, phi_n, codes)"
   ]
  },
  {
   "cell_type": "markdown",
   "id": "1f92624e",
   "metadata": {},
   "source": [
    "## Initialize params"
   ]
  },
  {
   "cell_type": "code",
   "execution_count": 8,
   "id": "8ef4854e",
   "metadata": {
    "scrolled": true
   },
   "outputs": [
    {
     "data": {
      "text/plain": [
       "'moon gravitation'"
      ]
     },
     "execution_count": 8,
     "metadata": {},
     "output_type": "execute_result"
    }
   ],
   "source": [
    "n = 1739\n",
    "k = 523\n",
    "public_key = [n, k]\n",
    "#codes = [898, 1224, 426, 426, 619, 553, 682, 1228, 1209, 553, 619, 1228, 1224, 979] # Var 1: happy new year\n",
    "#codes = [1484, 1228, 1224, 1346, 718, 973, 1583, 1346, 874, 553, 170, 973, 682, 401] #Var 2: beautiful mind\n",
    "#codes = [973, 170, 973, 718, 1224, 718, 973, 131, 682, 553, 897, 1224, 170, 1228] # Var 3: imitation game\n",
    "#codes = [170, 1228, 979, 979, 619, 553, 1401, 898, 979, 973, 576, 718, 170, 1224, 576] #Var 4: merry christmas\n",
    "#codes = [979, 1228, 874, 1224, 718, 973, 346, 973, 718, 619, 553, 718, 898, 1228, 131, 979, 619] #Var 5: relativity theory\n",
    "codes = [170, 131, 131, 682, 553, 897, 979, 1224, 346, 973, 718, 1224, 718, 973, 131, 682] #Var 6: moon gravitation\n",
    "hack_rsa(public_key, codes)"
   ]
  }
 ],
 "metadata": {
  "kernelspec": {
   "display_name": "Python 3 (ipykernel)",
   "language": "python",
   "name": "python3"
  },
  "language_info": {
   "codemirror_mode": {
    "name": "ipython",
    "version": 3
   },
   "file_extension": ".py",
   "mimetype": "text/x-python",
   "name": "python",
   "nbconvert_exporter": "python",
   "pygments_lexer": "ipython3",
   "version": "3.9.13"
  }
 },
 "nbformat": 4,
 "nbformat_minor": 5
}
